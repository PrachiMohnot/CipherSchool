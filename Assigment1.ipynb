{
 "cells": [
  {
   "cell_type": "code",
   "execution_count": 1,
   "metadata": {},
   "outputs": [
    {
     "name": "stdout",
     "output_type": "stream",
     "text": [
      "Enter all the values\n",
      "[should follow this pattern: 1,2,3,5,6,3,5,9]: 1,2,3,5,6,3,5,9\n",
      "your list after removing all duplicates: [2, 6, 5, 9, 1, 3]\n"
     ]
    }
   ],
   "source": [
    "# Question number 1\n",
    "# input should be given in comma seperated values.\n",
    "\n",
    "str=input('''Enter all the values\n",
    "[should follow this pattern: 1,2,3,5,6,3,5,9]: ''')\n",
    "str=str.split(',')\n",
    "str=set(str)\n",
    "str=list(str)\n",
    "\n",
    "list=[]\n",
    "#list will contain typecasted(into int) elements of str.\n",
    "for i in str:\n",
    "  list.append(int(i))\n",
    "\n",
    "print(\"your list after removing all duplicates:\",list)\n"
   ]
  },
  {
   "cell_type": "code",
   "execution_count": 2,
   "metadata": {},
   "outputs": [
    {
     "name": "stdout",
     "output_type": "stream",
     "text": [
      "Enter all the values\n",
      "[should follow this pattern: 1,2,3,5,6,3,5,9]: 1,2,3,5,6,3,5,9\n",
      "length of the tuple is:  8\n",
      "sum of all elements in tuple is:  34\n",
      "smallest element is:  1\n",
      "largest element is:  9\n"
     ]
    }
   ],
   "source": [
    "#Question no. 2\n",
    "str=input('''Enter all the values\n",
    "[should follow this pattern: 1,2,3,5,6,3,5,9]: ''')\n",
    "str=str.split(',')\n",
    "str.sort()\n",
    "str=tuple(str)\n",
    "#converted each element of tuple into int and again stored it inside tuple 'tup'\n",
    "tup=tuple([int(n) for n in str])\n",
    "#length of the tuple\n",
    "print(\"length of the tuple is: \",len(tup))\n",
    "#sum of all elements in the tuple\n",
    "print(\"sum of all elements in tuple is: \",sum(tup))\n",
    "#largest and smallest element\n",
    "list=sorted(tup)\n",
    "print(\"smallest element is: \",list[0])\n",
    "print(\"largest element is: \",list[-1])\n",
    " \n"
   ]
  },
  {
   "cell_type": "code",
   "execution_count": 5,
   "metadata": {},
   "outputs": [
    {
     "name": "stdout",
     "output_type": "stream",
     "text": [
      "enter the number: 15\n",
      "enter ith bit: 3\n",
      "after changing the ith bit: 15\n"
     ]
    }
   ],
   "source": [
    "#Question no. 3\n",
    "\n",
    "num=int(input(\"enter the number: \"))\n",
    "i=int(input(\"enter ith bit: \"))\n",
    "#mask such that (1*2**i)\n",
    "mask=1<<i\n",
    "result=num|mask\n",
    "#also,by using ternary operator,[result=num if (result>0) else (num+mask)]\n",
    "print(\"after changing the ith bit:\", result)\n"
   ]
  },
  {
   "cell_type": "code",
   "execution_count": 6,
   "metadata": {},
   "outputs": [
    {
     "name": "stdout",
     "output_type": "stream",
     "text": [
      "Enter a number: 56\n",
      "output is:  0\n"
     ]
    }
   ],
   "source": [
    "#Question no. 4\n",
    "num=int(input(\"Enter a number: \"))\n",
    "rem=num%2\n",
    "#o/p will be 1 if number is odd else o/p is 0\n",
    "print(\"output is: \",rem)\n"
   ]
  },
  {
   "cell_type": "code",
   "execution_count": null,
   "metadata": {},
   "outputs": [],
   "source": [
    "#Question no. 5\n",
    "#part a if the list is dynamic and user will input the integers\n",
    "A=input('''Enter the first list\n",
    "[should follow this pattern: 1,2,3,5,6,3,5,9]: ''')\n",
    "B=input('''Enter the next list: ''')\n",
    "#list A will have integer values\n",
    "A=A.split(',')\n",
    "A=[int(n) for n in A]\n",
    "#list B will have integer values\n",
    "B=B.split(',')\n",
    "B=[int(n) for n in B]\n",
    "#merge ans sort both lists in ascending order\n",
    "A.extend(B)\n",
    "A.sort()\n",
    "print(\"merged and sortes list: \",A)\n"
   ]
  },
  {
   "cell_type": "code",
   "execution_count": null,
   "metadata": {},
   "outputs": [],
   "source": [
    "#Question no. 5\n",
    "#part b if the list is static and already given\n",
    "A=[1,2,13,15,62,3,5,9]\n",
    "B=[8,2,16,91,55,10,9]\n",
    "#merge ans sort both lists in ascending order\n",
    "A.extend(B)\n",
    "A.sort()\n",
    "print(\"merged and sortes list: \",A)\n"
   ]
  },
  {
   "cell_type": "code",
   "execution_count": null,
   "metadata": {},
   "outputs": [],
   "source": [
    "#Question no. 6\n",
    "#enter the marks and then enter their respective name\n",
    "dic={}\n",
    "#create dictionary\n",
    "for i in range(5):\n",
    "    dic[input(\"Enter Name: \")]=int(input(\"Enter Marks: \"))\n",
    "    print(\"\\n\")\n",
    "#sort dictionary\n",
    "sorted_d = sorted(dic.items(), key=lambda i: i[1])\n",
    "diction= dict(sorted_d)\n",
    "print(diction)\n"
   ]
  }
 ],
 "metadata": {
  "kernelspec": {
   "display_name": "Python 3",
   "language": "python",
   "name": "python3"
  },
  "language_info": {
   "codemirror_mode": {
    "name": "ipython",
    "version": 3
   },
   "file_extension": ".py",
   "mimetype": "text/x-python",
   "name": "python",
   "nbconvert_exporter": "python",
   "pygments_lexer": "ipython3",
   "version": "3.7.6"
  }
 },
 "nbformat": 4,
 "nbformat_minor": 4
}
